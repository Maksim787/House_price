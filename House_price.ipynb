{
  "nbformat": 4,
  "nbformat_minor": 0,
  "metadata": {
    "colab": {
      "name": "House_price.ipynb",
      "provenance": [],
      "authorship_tag": "ABX9TyP7RERfrTQXVKtdvUNxG/PS",
      "include_colab_link": true
    },
    "kernelspec": {
      "name": "python3",
      "display_name": "Python 3"
    },
    "language_info": {
      "name": "python"
    }
  },
  "cells": [
    {
      "cell_type": "markdown",
      "metadata": {
        "id": "view-in-github",
        "colab_type": "text"
      },
      "source": [
        "<a href=\"https://colab.research.google.com/github/Maksim787/House_price/blob/main/House_price.ipynb\" target=\"_parent\"><img src=\"https://colab.research.google.com/assets/colab-badge.svg\" alt=\"Open In Colab\"/></a>"
      ]
    },
    {
      "cell_type": "markdown",
      "metadata": {
        "id": "XfE6xEcrj_0d"
      },
      "source": [
        "Импортируем библиотеки"
      ]
    },
    {
      "cell_type": "code",
      "metadata": {
        "id": "zzNeHBtbE8ym"
      },
      "source": [
        "import numpy as np\n",
        "import pandas as pd\n",
        "import matplotlib.pyplot as plt\n",
        "%matplotlib inline\n",
        "\n",
        "pd.set_option('display.max_rows', None)\n",
        "pd.set_option('display.max_columns', None)"
      ],
      "execution_count": 469,
      "outputs": []
    },
    {
      "cell_type": "markdown",
      "metadata": {
        "id": "Nhe1SpJCkFEe"
      },
      "source": [
        "Читаем датасет цен на недвижимость."
      ]
    },
    {
      "cell_type": "code",
      "metadata": {
        "id": "Jf8mhzkKHW76"
      },
      "source": [
        "df = pd.read_csv(\"https://raw.githubusercontent.com/Maksim787/House_price/main/data.csv\")"
      ],
      "execution_count": 470,
      "outputs": []
    },
    {
      "cell_type": "code",
      "metadata": {
        "id": "3FVBPqGBLrk-",
        "colab": {
          "base_uri": "https://localhost:8080/",
          "height": 400
        },
        "outputId": "1ae7f3a6-507b-4cfd-a866-75ba8678b060"
      },
      "source": [
        "df.head()"
      ],
      "execution_count": 471,
      "outputs": [
        {
          "output_type": "execute_result",
          "data": {
            "text/html": [
              "<div>\n",
              "<style scoped>\n",
              "    .dataframe tbody tr th:only-of-type {\n",
              "        vertical-align: middle;\n",
              "    }\n",
              "\n",
              "    .dataframe tbody tr th {\n",
              "        vertical-align: top;\n",
              "    }\n",
              "\n",
              "    .dataframe thead th {\n",
              "        text-align: right;\n",
              "    }\n",
              "</style>\n",
              "<table border=\"1\" class=\"dataframe\">\n",
              "  <thead>\n",
              "    <tr style=\"text-align: right;\">\n",
              "      <th></th>\n",
              "      <th>date</th>\n",
              "      <th>price</th>\n",
              "      <th>bedrooms</th>\n",
              "      <th>bathrooms</th>\n",
              "      <th>sqft_living</th>\n",
              "      <th>sqft_lot</th>\n",
              "      <th>floors</th>\n",
              "      <th>waterfront</th>\n",
              "      <th>view</th>\n",
              "      <th>condition</th>\n",
              "      <th>sqft_above</th>\n",
              "      <th>sqft_basement</th>\n",
              "      <th>yr_built</th>\n",
              "      <th>yr_renovated</th>\n",
              "      <th>street</th>\n",
              "      <th>city</th>\n",
              "      <th>statezip</th>\n",
              "      <th>country</th>\n",
              "    </tr>\n",
              "  </thead>\n",
              "  <tbody>\n",
              "    <tr>\n",
              "      <th>0</th>\n",
              "      <td>2014-05-02 00:00:00</td>\n",
              "      <td>313000.0</td>\n",
              "      <td>3.0</td>\n",
              "      <td>1.50</td>\n",
              "      <td>1340</td>\n",
              "      <td>7912</td>\n",
              "      <td>1.5</td>\n",
              "      <td>0</td>\n",
              "      <td>0</td>\n",
              "      <td>3</td>\n",
              "      <td>1340</td>\n",
              "      <td>0</td>\n",
              "      <td>1955</td>\n",
              "      <td>2005</td>\n",
              "      <td>18810 Densmore Ave N</td>\n",
              "      <td>Shoreline</td>\n",
              "      <td>WA 98133</td>\n",
              "      <td>USA</td>\n",
              "    </tr>\n",
              "    <tr>\n",
              "      <th>1</th>\n",
              "      <td>2014-05-02 00:00:00</td>\n",
              "      <td>2384000.0</td>\n",
              "      <td>5.0</td>\n",
              "      <td>2.50</td>\n",
              "      <td>3650</td>\n",
              "      <td>9050</td>\n",
              "      <td>2.0</td>\n",
              "      <td>0</td>\n",
              "      <td>4</td>\n",
              "      <td>5</td>\n",
              "      <td>3370</td>\n",
              "      <td>280</td>\n",
              "      <td>1921</td>\n",
              "      <td>0</td>\n",
              "      <td>709 W Blaine St</td>\n",
              "      <td>Seattle</td>\n",
              "      <td>WA 98119</td>\n",
              "      <td>USA</td>\n",
              "    </tr>\n",
              "    <tr>\n",
              "      <th>2</th>\n",
              "      <td>2014-05-02 00:00:00</td>\n",
              "      <td>342000.0</td>\n",
              "      <td>3.0</td>\n",
              "      <td>2.00</td>\n",
              "      <td>1930</td>\n",
              "      <td>11947</td>\n",
              "      <td>1.0</td>\n",
              "      <td>0</td>\n",
              "      <td>0</td>\n",
              "      <td>4</td>\n",
              "      <td>1930</td>\n",
              "      <td>0</td>\n",
              "      <td>1966</td>\n",
              "      <td>0</td>\n",
              "      <td>26206-26214 143rd Ave SE</td>\n",
              "      <td>Kent</td>\n",
              "      <td>WA 98042</td>\n",
              "      <td>USA</td>\n",
              "    </tr>\n",
              "    <tr>\n",
              "      <th>3</th>\n",
              "      <td>2014-05-02 00:00:00</td>\n",
              "      <td>420000.0</td>\n",
              "      <td>3.0</td>\n",
              "      <td>2.25</td>\n",
              "      <td>2000</td>\n",
              "      <td>8030</td>\n",
              "      <td>1.0</td>\n",
              "      <td>0</td>\n",
              "      <td>0</td>\n",
              "      <td>4</td>\n",
              "      <td>1000</td>\n",
              "      <td>1000</td>\n",
              "      <td>1963</td>\n",
              "      <td>0</td>\n",
              "      <td>857 170th Pl NE</td>\n",
              "      <td>Bellevue</td>\n",
              "      <td>WA 98008</td>\n",
              "      <td>USA</td>\n",
              "    </tr>\n",
              "    <tr>\n",
              "      <th>4</th>\n",
              "      <td>2014-05-02 00:00:00</td>\n",
              "      <td>550000.0</td>\n",
              "      <td>4.0</td>\n",
              "      <td>2.50</td>\n",
              "      <td>1940</td>\n",
              "      <td>10500</td>\n",
              "      <td>1.0</td>\n",
              "      <td>0</td>\n",
              "      <td>0</td>\n",
              "      <td>4</td>\n",
              "      <td>1140</td>\n",
              "      <td>800</td>\n",
              "      <td>1976</td>\n",
              "      <td>1992</td>\n",
              "      <td>9105 170th Ave NE</td>\n",
              "      <td>Redmond</td>\n",
              "      <td>WA 98052</td>\n",
              "      <td>USA</td>\n",
              "    </tr>\n",
              "  </tbody>\n",
              "</table>\n",
              "</div>"
            ],
            "text/plain": [
              "                  date      price  bedrooms  bathrooms  sqft_living  sqft_lot  \\\n",
              "0  2014-05-02 00:00:00   313000.0       3.0       1.50         1340      7912   \n",
              "1  2014-05-02 00:00:00  2384000.0       5.0       2.50         3650      9050   \n",
              "2  2014-05-02 00:00:00   342000.0       3.0       2.00         1930     11947   \n",
              "3  2014-05-02 00:00:00   420000.0       3.0       2.25         2000      8030   \n",
              "4  2014-05-02 00:00:00   550000.0       4.0       2.50         1940     10500   \n",
              "\n",
              "   floors  waterfront  view  condition  sqft_above  sqft_basement  yr_built  \\\n",
              "0     1.5           0     0          3        1340              0      1955   \n",
              "1     2.0           0     4          5        3370            280      1921   \n",
              "2     1.0           0     0          4        1930              0      1966   \n",
              "3     1.0           0     0          4        1000           1000      1963   \n",
              "4     1.0           0     0          4        1140            800      1976   \n",
              "\n",
              "   yr_renovated                    street       city  statezip country  \n",
              "0          2005      18810 Densmore Ave N  Shoreline  WA 98133     USA  \n",
              "1             0           709 W Blaine St    Seattle  WA 98119     USA  \n",
              "2             0  26206-26214 143rd Ave SE       Kent  WA 98042     USA  \n",
              "3             0           857 170th Pl NE   Bellevue  WA 98008     USA  \n",
              "4          1992         9105 170th Ave NE    Redmond  WA 98052     USA  "
            ]
          },
          "metadata": {
            "tags": []
          },
          "execution_count": 471
        }
      ]
    },
    {
      "cell_type": "code",
      "metadata": {
        "colab": {
          "base_uri": "https://localhost:8080/"
        },
        "id": "KnRaU6MiOaPJ",
        "outputId": "b4dd61ba-7c90-4048-b46d-293cf27e45ad"
      },
      "source": [
        "df.shape"
      ],
      "execution_count": 472,
      "outputs": [
        {
          "output_type": "execute_result",
          "data": {
            "text/plain": [
              "(4600, 18)"
            ]
          },
          "metadata": {
            "tags": []
          },
          "execution_count": 472
        }
      ]
    },
    {
      "cell_type": "code",
      "metadata": {
        "colab": {
          "base_uri": "https://localhost:8080/"
        },
        "id": "Zd5zww00O5ky",
        "outputId": "cf4aabb2-b519-48e4-cfd7-7ecbf81cdfe0"
      },
      "source": [
        "df.info()"
      ],
      "execution_count": 473,
      "outputs": [
        {
          "output_type": "stream",
          "text": [
            "<class 'pandas.core.frame.DataFrame'>\n",
            "RangeIndex: 4600 entries, 0 to 4599\n",
            "Data columns (total 18 columns):\n",
            " #   Column         Non-Null Count  Dtype  \n",
            "---  ------         --------------  -----  \n",
            " 0   date           4600 non-null   object \n",
            " 1   price          4600 non-null   float64\n",
            " 2   bedrooms       4600 non-null   float64\n",
            " 3   bathrooms      4600 non-null   float64\n",
            " 4   sqft_living    4600 non-null   int64  \n",
            " 5   sqft_lot       4600 non-null   int64  \n",
            " 6   floors         4600 non-null   float64\n",
            " 7   waterfront     4600 non-null   int64  \n",
            " 8   view           4600 non-null   int64  \n",
            " 9   condition      4600 non-null   int64  \n",
            " 10  sqft_above     4600 non-null   int64  \n",
            " 11  sqft_basement  4600 non-null   int64  \n",
            " 12  yr_built       4600 non-null   int64  \n",
            " 13  yr_renovated   4600 non-null   int64  \n",
            " 14  street         4600 non-null   object \n",
            " 15  city           4600 non-null   object \n",
            " 16  statezip       4600 non-null   object \n",
            " 17  country        4600 non-null   object \n",
            "dtypes: float64(4), int64(9), object(5)\n",
            "memory usage: 647.0+ KB\n"
          ],
          "name": "stdout"
        }
      ]
    },
    {
      "cell_type": "markdown",
      "metadata": {
        "id": "vxF84k-EkKtO"
      },
      "source": [
        "Посмотрим на распределение цен."
      ]
    },
    {
      "cell_type": "code",
      "metadata": {
        "colab": {
          "base_uri": "https://localhost:8080/",
          "height": 362
        },
        "id": "PPfjUpIZiIWN",
        "outputId": "2afafb1f-a1c0-4425-8d17-620618a7e508"
      },
      "source": [
        "plt.hist(df[\"price\"])"
      ],
      "execution_count": 474,
      "outputs": [
        {
          "output_type": "execute_result",
          "data": {
            "text/plain": [
              "(array([4.585e+03, 1.200e+01, 1.000e+00, 0.000e+00, 1.000e+00, 0.000e+00,\n",
              "        0.000e+00, 0.000e+00, 0.000e+00, 1.000e+00]),\n",
              " array([       0.,  2659000.,  5318000.,  7977000., 10636000., 13295000.,\n",
              "        15954000., 18613000., 21272000., 23931000., 26590000.]),\n",
              " <a list of 10 Patch objects>)"
            ]
          },
          "metadata": {
            "tags": []
          },
          "execution_count": 474
        },
        {
          "output_type": "display_data",
          "data": {
            "image/png": "[encoded data removed]",
            "text/plain": [
              "<Figure size 432x288 with 1 Axes>"
            ]
          },
          "metadata": {
            "tags": [],
            "needs_background": "light"
          }
        }
      ]
    },
    {
      "cell_type": "code",
      "metadata": {
        "colab": {
          "base_uri": "https://localhost:8080/"
        },
        "id": "zxPCt0vpkXMP",
        "outputId": "df8ea5ff-8018-4cba-ae24-43aed3b7a790"
      },
      "source": [
        "df[\"price\"].describe()"
      ],
      "execution_count": 475,
      "outputs": [
        {
          "output_type": "execute_result",
          "data": {
            "text/plain": [
              "count    4.600000e+03\n",
              "mean     5.519630e+05\n",
              "std      5.638347e+05\n",
              "min      0.000000e+00\n",
              "25%      3.228750e+05\n",
              "50%      4.609435e+05\n",
              "75%      6.549625e+05\n",
              "max      2.659000e+07\n",
              "Name: price, dtype: float64"
            ]
          },
          "metadata": {
            "tags": []
          },
          "execution_count": 475
        }
      ]
    },
    {
      "cell_type": "markdown",
      "metadata": {
        "id": "oN4aqsdukQve"
      },
      "source": [
        "Есть немного очень дорогих домов и очень дешевых домов. Сначала уберём те дома, которые стоят 0. Затем уберём некоторый процент дорогих и дешевых домов."
      ]
    },
    {
      "cell_type": "code",
      "metadata": {
        "id": "r0YJNyK-mXn6"
      },
      "source": [
        "updated_df = df[df[\"price\"] != 0]"
      ],
      "execution_count": 482,
      "outputs": []
    },
    {
      "cell_type": "code",
      "metadata": {
        "colab": {
          "base_uri": "https://localhost:8080/",
          "height": 284
        },
        "id": "xfVKtXKlmr8j",
        "outputId": "6cb98b69-9e8d-4084-a4d5-c8a3dd211978"
      },
      "source": [
        "updated_df.describe()"
      ],
      "execution_count": 483,
      "outputs": [
        {
          "output_type": "execute_result",
          "data": {
            "text/html": [
              "<div>\n",
              "<style scoped>\n",
              "    .dataframe tbody tr th:only-of-type {\n",
              "        vertical-align: middle;\n",
              "    }\n",
              "\n",
              "    .dataframe tbody tr th {\n",
              "        vertical-align: top;\n",
              "    }\n",
              "\n",
              "    .dataframe thead th {\n",
              "        text-align: right;\n",
              "    }\n",
              "</style>\n",
              "<table border=\"1\" class=\"dataframe\">\n",
              "  <thead>\n",
              "    <tr style=\"text-align: right;\">\n",
              "      <th></th>\n",
              "      <th>price</th>\n",
              "      <th>bedrooms</th>\n",
              "      <th>bathrooms</th>\n",
              "      <th>sqft_living</th>\n",
              "      <th>sqft_lot</th>\n",
              "      <th>floors</th>\n",
              "      <th>waterfront</th>\n",
              "      <th>view</th>\n",
              "      <th>condition</th>\n",
              "      <th>sqft_above</th>\n",
              "      <th>sqft_basement</th>\n",
              "      <th>yr_built</th>\n",
              "      <th>yr_renovated</th>\n",
              "    </tr>\n",
              "  </thead>\n",
              "  <tbody>\n",
              "    <tr>\n",
              "      <th>count</th>\n",
              "      <td>4.551000e+03</td>\n",
              "      <td>4551.000000</td>\n",
              "      <td>4551.000000</td>\n",
              "      <td>4551.000000</td>\n",
              "      <td>4.551000e+03</td>\n",
              "      <td>4551.000000</td>\n",
              "      <td>4551.000000</td>\n",
              "      <td>4551.000000</td>\n",
              "      <td>4551.000000</td>\n",
              "      <td>4551.000000</td>\n",
              "      <td>4551.000000</td>\n",
              "      <td>4551.000000</td>\n",
              "      <td>4551.000000</td>\n",
              "    </tr>\n",
              "    <tr>\n",
              "      <th>mean</th>\n",
              "      <td>5.579059e+05</td>\n",
              "      <td>3.394639</td>\n",
              "      <td>2.155021</td>\n",
              "      <td>2132.372226</td>\n",
              "      <td>1.483528e+04</td>\n",
              "      <td>1.512195</td>\n",
              "      <td>0.006592</td>\n",
              "      <td>0.234674</td>\n",
              "      <td>3.449352</td>\n",
              "      <td>1822.221710</td>\n",
              "      <td>310.150516</td>\n",
              "      <td>1970.795649</td>\n",
              "      <td>808.564052</td>\n",
              "    </tr>\n",
              "    <tr>\n",
              "      <th>std</th>\n",
              "      <td>5.639299e+05</td>\n",
              "      <td>0.904595</td>\n",
              "      <td>0.776351</td>\n",
              "      <td>955.949708</td>\n",
              "      <td>3.596408e+04</td>\n",
              "      <td>0.538531</td>\n",
              "      <td>0.080932</td>\n",
              "      <td>0.765373</td>\n",
              "      <td>0.675160</td>\n",
              "      <td>854.452888</td>\n",
              "      <td>461.987629</td>\n",
              "      <td>29.760073</td>\n",
              "      <td>979.421487</td>\n",
              "    </tr>\n",
              "    <tr>\n",
              "      <th>min</th>\n",
              "      <td>7.800000e+03</td>\n",
              "      <td>0.000000</td>\n",
              "      <td>0.000000</td>\n",
              "      <td>370.000000</td>\n",
              "      <td>6.380000e+02</td>\n",
              "      <td>1.000000</td>\n",
              "      <td>0.000000</td>\n",
              "      <td>0.000000</td>\n",
              "      <td>1.000000</td>\n",
              "      <td>370.000000</td>\n",
              "      <td>0.000000</td>\n",
              "      <td>1900.000000</td>\n",
              "      <td>0.000000</td>\n",
              "    </tr>\n",
              "    <tr>\n",
              "      <th>25%</th>\n",
              "      <td>3.262643e+05</td>\n",
              "      <td>3.000000</td>\n",
              "      <td>1.750000</td>\n",
              "      <td>1460.000000</td>\n",
              "      <td>5.000000e+03</td>\n",
              "      <td>1.000000</td>\n",
              "      <td>0.000000</td>\n",
              "      <td>0.000000</td>\n",
              "      <td>3.000000</td>\n",
              "      <td>1190.000000</td>\n",
              "      <td>0.000000</td>\n",
              "      <td>1951.000000</td>\n",
              "      <td>0.000000</td>\n",
              "    </tr>\n",
              "    <tr>\n",
              "      <th>50%</th>\n",
              "      <td>4.650000e+05</td>\n",
              "      <td>3.000000</td>\n",
              "      <td>2.250000</td>\n",
              "      <td>1970.000000</td>\n",
              "      <td>7.680000e+03</td>\n",
              "      <td>1.500000</td>\n",
              "      <td>0.000000</td>\n",
              "      <td>0.000000</td>\n",
              "      <td>3.000000</td>\n",
              "      <td>1590.000000</td>\n",
              "      <td>0.000000</td>\n",
              "      <td>1976.000000</td>\n",
              "      <td>0.000000</td>\n",
              "    </tr>\n",
              "    <tr>\n",
              "      <th>75%</th>\n",
              "      <td>6.575000e+05</td>\n",
              "      <td>4.000000</td>\n",
              "      <td>2.500000</td>\n",
              "      <td>2610.000000</td>\n",
              "      <td>1.097800e+04</td>\n",
              "      <td>2.000000</td>\n",
              "      <td>0.000000</td>\n",
              "      <td>0.000000</td>\n",
              "      <td>4.000000</td>\n",
              "      <td>2300.000000</td>\n",
              "      <td>600.000000</td>\n",
              "      <td>1997.000000</td>\n",
              "      <td>1999.000000</td>\n",
              "    </tr>\n",
              "    <tr>\n",
              "      <th>max</th>\n",
              "      <td>2.659000e+07</td>\n",
              "      <td>9.000000</td>\n",
              "      <td>8.000000</td>\n",
              "      <td>13540.000000</td>\n",
              "      <td>1.074218e+06</td>\n",
              "      <td>3.500000</td>\n",
              "      <td>1.000000</td>\n",
              "      <td>4.000000</td>\n",
              "      <td>5.000000</td>\n",
              "      <td>9410.000000</td>\n",
              "      <td>4820.000000</td>\n",
              "      <td>2014.000000</td>\n",
              "      <td>2014.000000</td>\n",
              "    </tr>\n",
              "  </tbody>\n",
              "</table>\n",
              "</div>"
            ],
            "text/plain": [
              "              price     bedrooms    bathrooms   sqft_living      sqft_lot  \\\n",
              "count  4.551000e+03  4551.000000  4551.000000   4551.000000  4.551000e+03   \n",
              "mean   5.579059e+05     3.394639     2.155021   2132.372226  1.483528e+04   \n",
              "std    5.639299e+05     0.904595     0.776351    955.949708  3.596408e+04   \n",
              "min    7.800000e+03     0.000000     0.000000    370.000000  6.380000e+02   \n",
              "25%    3.262643e+05     3.000000     1.750000   1460.000000  5.000000e+03   \n",
              "50%    4.650000e+05     3.000000     2.250000   1970.000000  7.680000e+03   \n",
              "75%    6.575000e+05     4.000000     2.500000   2610.000000  1.097800e+04   \n",
              "max    2.659000e+07     9.000000     8.000000  13540.000000  1.074218e+06   \n",
              "\n",
              "            floors   waterfront         view    condition   sqft_above  \\\n",
              "count  4551.000000  4551.000000  4551.000000  4551.000000  4551.000000   \n",
              "mean      1.512195     0.006592     0.234674     3.449352  1822.221710   \n",
              "std       0.538531     0.080932     0.765373     0.675160   854.452888   \n",
              "min       1.000000     0.000000     0.000000     1.000000   370.000000   \n",
              "25%       1.000000     0.000000     0.000000     3.000000  1190.000000   \n",
              "50%       1.500000     0.000000     0.000000     3.000000  1590.000000   \n",
              "75%       2.000000     0.000000     0.000000     4.000000  2300.000000   \n",
              "max       3.500000     1.000000     4.000000     5.000000  9410.000000   \n",
              "\n",
              "       sqft_basement     yr_built  yr_renovated  \n",
              "count    4551.000000  4551.000000   4551.000000  \n",
              "mean      310.150516  1970.795649    808.564052  \n",
              "std       461.987629    29.760073    979.421487  \n",
              "min         0.000000  1900.000000      0.000000  \n",
              "25%         0.000000  1951.000000      0.000000  \n",
              "50%         0.000000  1976.000000      0.000000  \n",
              "75%       600.000000  1997.000000   1999.000000  \n",
              "max      4820.000000  2014.000000   2014.000000  "
            ]
          },
          "metadata": {
            "tags": []
          },
          "execution_count": 483
        }
      ]
    },
    {
      "cell_type": "code",
      "metadata": {
        "colab": {
          "base_uri": "https://localhost:8080/"
        },
        "id": "96qF9GuDiMaI",
        "outputId": "21891c40-ba0e-4fb8-bb1e-53fade09681c"
      },
      "source": [
        "mean_price = updated_df[\"price\"].mean()\n",
        "std_price = updated_df[\"price\"].std()\n",
        "print(mean_price)\n",
        "print(std_price)"
      ],
      "execution_count": 484,
      "outputs": [
        {
          "output_type": "stream",
          "text": [
            "557905.8991379443\n",
            "563929.8712791878\n"
          ],
          "name": "stdout"
        }
      ]
    },
    {
      "cell_type": "code",
      "metadata": {
        "colab": {
          "base_uri": "https://localhost:8080/"
        },
        "id": "gKOag526idW7",
        "outputId": "6ace41e6-6fda-4aac-9653-621ab507feb8"
      },
      "source": [
        "upper_bound = updated_df[\"price\"].quantile(0.9)\n",
        "lower_bound = updated_df[\"price\"].quantile(0.1)\n",
        "print(round(upper_bound))\n",
        "print(round(lower_bound))"
      ],
      "execution_count": 485,
      "outputs": [
        {
          "output_type": "stream",
          "text": [
            "905000\n",
            "245000\n"
          ],
          "name": "stdout"
        }
      ]
    },
    {
      "cell_type": "code",
      "metadata": {
        "id": "k2_C1PWnjG7I"
      },
      "source": [
        "updated_df = updated_df[updated_df[\"price\"] < upper_bound]\n",
        "updated_df = updated_df[updated_df[\"price\"] > lower_bound]"
      ],
      "execution_count": 486,
      "outputs": []
    },
    {
      "cell_type": "code",
      "metadata": {
        "colab": {
          "base_uri": "https://localhost:8080/",
          "height": 332
        },
        "id": "TbVNacbFlnyO",
        "outputId": "8b06629c-09cd-47c6-87d6-a2578a3557cd"
      },
      "source": [
        "plt.hist(updated_df[\"price\"])"
      ],
      "execution_count": 487,
      "outputs": [
        {
          "output_type": "execute_result",
          "data": {
            "text/plain": [
              "(array([554., 541., 549., 480., 418., 326., 274., 207., 155., 133.]),\n",
              " array([245100., 310790., 376480., 442170., 507860., 573550., 639240.,\n",
              "        704930., 770620., 836310., 902000.]),\n",
              " <a list of 10 Patch objects>)"
            ]
          },
          "metadata": {
            "tags": []
          },
          "execution_count": 487
        },
        {
          "output_type": "display_data",
          "data": {
            "image/png": "[encoded data removed]",
            "text/plain": [
              "<Figure size 432x288 with 1 Axes>"
            ]
          },
          "metadata": {
            "tags": [],
            "needs_background": "light"
          }
        }
      ]
    },
    {
      "cell_type": "code",
      "metadata": {
        "colab": {
          "base_uri": "https://localhost:8080/",
          "height": 284
        },
        "id": "1E0f9OuAnB8L",
        "outputId": "0ba5f944-b89c-400c-8f7a-b68061e10e4d"
      },
      "source": [
        "updated_df.describe()"
      ],
      "execution_count": 488,
      "outputs": [
        {
          "output_type": "execute_result",
          "data": {
            "text/html": [
              "<div>\n",
              "<style scoped>\n",
              "    .dataframe tbody tr th:only-of-type {\n",
              "        vertical-align: middle;\n",
              "    }\n",
              "\n",
              "    .dataframe tbody tr th {\n",
              "        vertical-align: top;\n",
              "    }\n",
              "\n",
              "    .dataframe thead th {\n",
              "        text-align: right;\n",
              "    }\n",
              "</style>\n",
              "<table border=\"1\" class=\"dataframe\">\n",
              "  <thead>\n",
              "    <tr style=\"text-align: right;\">\n",
              "      <th></th>\n",
              "      <th>price</th>\n",
              "      <th>bedrooms</th>\n",
              "      <th>bathrooms</th>\n",
              "      <th>sqft_living</th>\n",
              "      <th>sqft_lot</th>\n",
              "      <th>floors</th>\n",
              "      <th>waterfront</th>\n",
              "      <th>view</th>\n",
              "      <th>condition</th>\n",
              "      <th>sqft_above</th>\n",
              "      <th>sqft_basement</th>\n",
              "      <th>yr_built</th>\n",
              "      <th>yr_renovated</th>\n",
              "    </tr>\n",
              "  </thead>\n",
              "  <tbody>\n",
              "    <tr>\n",
              "      <th>count</th>\n",
              "      <td>3637.000000</td>\n",
              "      <td>3637.000000</td>\n",
              "      <td>3637.000000</td>\n",
              "      <td>3637.000000</td>\n",
              "      <td>3.637000e+03</td>\n",
              "      <td>3637.000000</td>\n",
              "      <td>3637.000000</td>\n",
              "      <td>3637.000000</td>\n",
              "      <td>3637.000000</td>\n",
              "      <td>3637.000000</td>\n",
              "      <td>3637.000000</td>\n",
              "      <td>3637.000000</td>\n",
              "      <td>3637.000000</td>\n",
              "    </tr>\n",
              "    <tr>\n",
              "      <th>mean</th>\n",
              "      <td>492719.884381</td>\n",
              "      <td>3.376409</td>\n",
              "      <td>2.132252</td>\n",
              "      <td>2046.323893</td>\n",
              "      <td>1.441738e+04</td>\n",
              "      <td>1.520071</td>\n",
              "      <td>0.002750</td>\n",
              "      <td>0.162222</td>\n",
              "      <td>3.441298</td>\n",
              "      <td>1752.720649</td>\n",
              "      <td>293.603244</td>\n",
              "      <td>1971.879021</td>\n",
              "      <td>796.665933</td>\n",
              "    </tr>\n",
              "    <tr>\n",
              "      <th>std</th>\n",
              "      <td>167563.194864</td>\n",
              "      <td>0.861360</td>\n",
              "      <td>0.665172</td>\n",
              "      <td>740.048581</td>\n",
              "      <td>3.669745e+04</td>\n",
              "      <td>0.544382</td>\n",
              "      <td>0.052371</td>\n",
              "      <td>0.614790</td>\n",
              "      <td>0.663507</td>\n",
              "      <td>716.128336</td>\n",
              "      <td>421.433679</td>\n",
              "      <td>29.826325</td>\n",
              "      <td>976.951864</td>\n",
              "    </tr>\n",
              "    <tr>\n",
              "      <th>min</th>\n",
              "      <td>245100.000000</td>\n",
              "      <td>1.000000</td>\n",
              "      <td>0.750000</td>\n",
              "      <td>370.000000</td>\n",
              "      <td>6.380000e+02</td>\n",
              "      <td>1.000000</td>\n",
              "      <td>0.000000</td>\n",
              "      <td>0.000000</td>\n",
              "      <td>1.000000</td>\n",
              "      <td>370.000000</td>\n",
              "      <td>0.000000</td>\n",
              "      <td>1900.000000</td>\n",
              "      <td>0.000000</td>\n",
              "    </tr>\n",
              "    <tr>\n",
              "      <th>25%</th>\n",
              "      <td>351999.000000</td>\n",
              "      <td>3.000000</td>\n",
              "      <td>1.750000</td>\n",
              "      <td>1500.000000</td>\n",
              "      <td>4.850000e+03</td>\n",
              "      <td>1.000000</td>\n",
              "      <td>0.000000</td>\n",
              "      <td>0.000000</td>\n",
              "      <td>3.000000</td>\n",
              "      <td>1200.000000</td>\n",
              "      <td>0.000000</td>\n",
              "      <td>1952.000000</td>\n",
              "      <td>0.000000</td>\n",
              "    </tr>\n",
              "    <tr>\n",
              "      <th>50%</th>\n",
              "      <td>465000.000000</td>\n",
              "      <td>3.000000</td>\n",
              "      <td>2.250000</td>\n",
              "      <td>1960.000000</td>\n",
              "      <td>7.410000e+03</td>\n",
              "      <td>1.500000</td>\n",
              "      <td>0.000000</td>\n",
              "      <td>0.000000</td>\n",
              "      <td>3.000000</td>\n",
              "      <td>1580.000000</td>\n",
              "      <td>0.000000</td>\n",
              "      <td>1977.000000</td>\n",
              "      <td>0.000000</td>\n",
              "    </tr>\n",
              "    <tr>\n",
              "      <th>75%</th>\n",
              "      <td>605000.000000</td>\n",
              "      <td>4.000000</td>\n",
              "      <td>2.500000</td>\n",
              "      <td>2500.000000</td>\n",
              "      <td>1.046600e+04</td>\n",
              "      <td>2.000000</td>\n",
              "      <td>0.000000</td>\n",
              "      <td>0.000000</td>\n",
              "      <td>4.000000</td>\n",
              "      <td>2210.000000</td>\n",
              "      <td>600.000000</td>\n",
              "      <td>1998.000000</td>\n",
              "      <td>1999.000000</td>\n",
              "    </tr>\n",
              "    <tr>\n",
              "      <th>max</th>\n",
              "      <td>902000.000000</td>\n",
              "      <td>9.000000</td>\n",
              "      <td>5.750000</td>\n",
              "      <td>5960.000000</td>\n",
              "      <td>1.074218e+06</td>\n",
              "      <td>3.500000</td>\n",
              "      <td>1.000000</td>\n",
              "      <td>4.000000</td>\n",
              "      <td>5.000000</td>\n",
              "      <td>5010.000000</td>\n",
              "      <td>2300.000000</td>\n",
              "      <td>2014.000000</td>\n",
              "      <td>2014.000000</td>\n",
              "    </tr>\n",
              "  </tbody>\n",
              "</table>\n",
              "</div>"
            ],
            "text/plain": [
              "               price     bedrooms    bathrooms  sqft_living      sqft_lot  \\\n",
              "count    3637.000000  3637.000000  3637.000000  3637.000000  3.637000e+03   \n",
              "mean   492719.884381     3.376409     2.132252  2046.323893  1.441738e+04   \n",
              "std    167563.194864     0.861360     0.665172   740.048581  3.669745e+04   \n",
              "min    245100.000000     1.000000     0.750000   370.000000  6.380000e+02   \n",
              "25%    351999.000000     3.000000     1.750000  1500.000000  4.850000e+03   \n",
              "50%    465000.000000     3.000000     2.250000  1960.000000  7.410000e+03   \n",
              "75%    605000.000000     4.000000     2.500000  2500.000000  1.046600e+04   \n",
              "max    902000.000000     9.000000     5.750000  5960.000000  1.074218e+06   \n",
              "\n",
              "            floors   waterfront         view    condition   sqft_above  \\\n",
              "count  3637.000000  3637.000000  3637.000000  3637.000000  3637.000000   \n",
              "mean      1.520071     0.002750     0.162222     3.441298  1752.720649   \n",
              "std       0.544382     0.052371     0.614790     0.663507   716.128336   \n",
              "min       1.000000     0.000000     0.000000     1.000000   370.000000   \n",
              "25%       1.000000     0.000000     0.000000     3.000000  1200.000000   \n",
              "50%       1.500000     0.000000     0.000000     3.000000  1580.000000   \n",
              "75%       2.000000     0.000000     0.000000     4.000000  2210.000000   \n",
              "max       3.500000     1.000000     4.000000     5.000000  5010.000000   \n",
              "\n",
              "       sqft_basement     yr_built  yr_renovated  \n",
              "count    3637.000000  3637.000000   3637.000000  \n",
              "mean      293.603244  1971.879021    796.665933  \n",
              "std       421.433679    29.826325    976.951864  \n",
              "min         0.000000  1900.000000      0.000000  \n",
              "25%         0.000000  1952.000000      0.000000  \n",
              "50%         0.000000  1977.000000      0.000000  \n",
              "75%       600.000000  1998.000000   1999.000000  \n",
              "max      2300.000000  2014.000000   2014.000000  "
            ]
          },
          "metadata": {
            "tags": []
          },
          "execution_count": 488
        }
      ]
    },
    {
      "cell_type": "markdown",
      "metadata": {
        "id": "nN8MDJbAkxLM"
      },
      "source": [
        "Будем рассматривать только численные характеристики"
      ]
    },
    {
      "cell_type": "code",
      "metadata": {
        "id": "w0cEgGUEPBDk"
      },
      "source": [
        "data = updated_df.iloc[:,2:14]\n",
        "targets = updated_df.iloc[:,1]"
      ],
      "execution_count": 489,
      "outputs": []
    },
    {
      "cell_type": "markdown",
      "metadata": {
        "id": "ICfzmkpNk2nC"
      },
      "source": [
        "Распределение характеристик"
      ]
    },
    {
      "cell_type": "code",
      "metadata": {
        "colab": {
          "base_uri": "https://localhost:8080/",
          "height": 1000
        },
        "id": "CqGIzn43cvd0",
        "outputId": "c77734ce-d812-418a-9dd0-61684a9af3cd"
      },
      "source": [
        "for col in data.columns:\n",
        "  plt.hist(data[col])\n",
        "  plt.title(col)\n",
        "  plt.show()"
      ],
      "execution_count": 490,
      "outputs": [
        {
          "output_type": "display_data",
          "data": {
            "image/png": "[encoded data removed]",
            "text/plain": [
              "<Figure size 432x288 with 1 Axes>"
            ]
          },
          "metadata": {
            "tags": [],
            "needs_background": "light"
          }
        },
        {
          "output_type": "display_data",
          "data": {
            "image/png": "[encoded data removed]",
            "text/plain": [
              "<Figure size 432x288 with 1 Axes>"
            ]
          },
          "metadata": {
            "tags": [],
            "needs_background": "light"
          }
        },
        {
          "output_type": "display_data",
          "data": {
            "image/png": "[encoded data removed]",
            "text/plain": [
              "<Figure size 432x288 with 1 Axes>"
            ]
          },
          "metadata": {
            "tags": [],
            "needs_background": "light"
          }
        },
        {
          "output_type": "display_data",
          "data": {
            "image/png": "[encoded data removed]",
            "text/plain": [
              "<Figure size 432x288 with 1 Axes>"
            ]
          },
          "metadata": {
            "tags": [],
            "needs_background": "light"
          }
        },
        {
          "output_type": "display_data",
          "data": {
            "image/png": "[encoded data removed]",
            "text/plain": [
              "<Figure size 432x288 with 1 Axes>"
            ]
          },
          "metadata": {
            "tags": [],
            "needs_background": "light"
          }
        },
        {
          "output_type": "display_data",
          "data": {
            "image/png": "[encoded data removed]",
            "text/plain": [
              "<Figure size 432x288 with 1 Axes>"
            ]
          },
          "metadata": {
            "tags": [],
            "needs_background": "light"
          }
        },
        {
          "output_type": "display_data",
          "data": {
            "image/png": "[encoded data removed]",
            "text/plain": [
              "<Figure size 432x288 with 1 Axes>"
            ]
          },
          "metadata": {
            "tags": [],
            "needs_background": "light"
          }
        },
        {
          "output_type": "display_data",
          "data": {
            "image/png": "[encoded data removed]",
            "text/plain": [
              "<Figure size 432x288 with 1 Axes>"
            ]
          },
          "metadata": {
            "tags": [],
            "needs_background": "light"
          }
        },
        {
          "output_type": "display_data",
          "data": {
            "image/png": "[encoded data removed]",
            "text/plain": [
              "<Figure size 432x288 with 1 Axes>"
            ]
          },
          "metadata": {
            "tags": [],
            "needs_background": "light"
          }
        },
        {
          "output_type": "display_data",
          "data": {
            "image/png": "[encoded data removed]",
            "text/plain": [
              "<Figure size 432x288 with 1 Axes>"
            ]
          },
          "metadata": {
            "tags": [],
            "needs_background": "light"
          }
        },
        {
          "output_type": "display_data",
          "data": {
            "image/png": "[encoded data removed]",
            "text/plain": [
              "<Figure size 432x288 with 1 Axes>"
            ]
          },
          "metadata": {
            "tags": [],
            "needs_background": "light"
          }
        },
        {
          "output_type": "display_data",
          "data": {
            "image/png": "[encoded data removed]",
            "text/plain": [
              "<Figure size 432x288 with 1 Axes>"
            ]
          },
          "metadata": {
            "tags": [],
            "needs_background": "light"
          }
        }
      ]
    },
    {
      "cell_type": "code",
      "metadata": {
        "colab": {
          "base_uri": "https://localhost:8080/"
        },
        "id": "qtRe3NqUdzBe",
        "outputId": "063b55f4-7b6b-47e9-d99a-a9639f5cfe12"
      },
      "source": [
        "data.info()"
      ],
      "execution_count": 491,
      "outputs": [
        {
          "output_type": "stream",
          "text": [
            "<class 'pandas.core.frame.DataFrame'>\n",
            "Int64Index: 3637 entries, 0 to 4597\n",
            "Data columns (total 12 columns):\n",
            " #   Column         Non-Null Count  Dtype  \n",
            "---  ------         --------------  -----  \n",
            " 0   bedrooms       3637 non-null   float64\n",
            " 1   bathrooms      3637 non-null   float64\n",
            " 2   sqft_living    3637 non-null   int64  \n",
            " 3   sqft_lot       3637 non-null   int64  \n",
            " 4   floors         3637 non-null   float64\n",
            " 5   waterfront     3637 non-null   int64  \n",
            " 6   view           3637 non-null   int64  \n",
            " 7   condition      3637 non-null   int64  \n",
            " 8   sqft_above     3637 non-null   int64  \n",
            " 9   sqft_basement  3637 non-null   int64  \n",
            " 10  yr_built       3637 non-null   int64  \n",
            " 11  yr_renovated   3637 non-null   int64  \n",
            "dtypes: float64(3), int64(9)\n",
            "memory usage: 369.4 KB\n"
          ],
          "name": "stdout"
        }
      ]
    },
    {
      "cell_type": "markdown",
      "metadata": {
        "id": "vczrh5JQk7RP"
      },
      "source": [
        "Берём только те, которые нормально распределены и наиболее подходят для анализа."
      ]
    },
    {
      "cell_type": "code",
      "metadata": {
        "id": "kNykrR1Xd26H"
      },
      "source": [
        "data = data[[\"bedrooms\", \"bathrooms\", \"sqft_living\", \"floors\", \"yr_built\"]]"
      ],
      "execution_count": 492,
      "outputs": []
    },
    {
      "cell_type": "code",
      "metadata": {
        "colab": {
          "base_uri": "https://localhost:8080/",
          "height": 284
        },
        "id": "hTwc2OjWhbK9",
        "outputId": "a9a9b551-8406-4833-c4db-6fee4f225b7c"
      },
      "source": [
        "data.describe()"
      ],
      "execution_count": 493,
      "outputs": [
        {
          "output_type": "execute_result",
          "data": {
            "text/html": [
              "<div>\n",
              "<style scoped>\n",
              "    .dataframe tbody tr th:only-of-type {\n",
              "        vertical-align: middle;\n",
              "    }\n",
              "\n",
              "    .dataframe tbody tr th {\n",
              "        vertical-align: top;\n",
              "    }\n",
              "\n",
              "    .dataframe thead th {\n",
              "        text-align: right;\n",
              "    }\n",
              "</style>\n",
              "<table border=\"1\" class=\"dataframe\">\n",
              "  <thead>\n",
              "    <tr style=\"text-align: right;\">\n",
              "      <th></th>\n",
              "      <th>bedrooms</th>\n",
              "      <th>bathrooms</th>\n",
              "      <th>sqft_living</th>\n",
              "      <th>floors</th>\n",
              "      <th>yr_built</th>\n",
              "    </tr>\n",
              "  </thead>\n",
              "  <tbody>\n",
              "    <tr>\n",
              "      <th>count</th>\n",
              "      <td>3637.000000</td>\n",
              "      <td>3637.000000</td>\n",
              "      <td>3637.000000</td>\n",
              "      <td>3637.000000</td>\n",
              "      <td>3637.000000</td>\n",
              "    </tr>\n",
              "    <tr>\n",
              "      <th>mean</th>\n",
              "      <td>3.376409</td>\n",
              "      <td>2.132252</td>\n",
              "      <td>2046.323893</td>\n",
              "      <td>1.520071</td>\n",
              "      <td>1971.879021</td>\n",
              "    </tr>\n",
              "    <tr>\n",
              "      <th>std</th>\n",
              "      <td>0.861360</td>\n",
              "      <td>0.665172</td>\n",
              "      <td>740.048581</td>\n",
              "      <td>0.544382</td>\n",
              "      <td>29.826325</td>\n",
              "    </tr>\n",
              "    <tr>\n",
              "      <th>min</th>\n",
              "      <td>1.000000</td>\n",
              "      <td>0.750000</td>\n",
              "      <td>370.000000</td>\n",
              "      <td>1.000000</td>\n",
              "      <td>1900.000000</td>\n",
              "    </tr>\n",
              "    <tr>\n",
              "      <th>25%</th>\n",
              "      <td>3.000000</td>\n",
              "      <td>1.750000</td>\n",
              "      <td>1500.000000</td>\n",
              "      <td>1.000000</td>\n",
              "      <td>1952.000000</td>\n",
              "    </tr>\n",
              "    <tr>\n",
              "      <th>50%</th>\n",
              "      <td>3.000000</td>\n",
              "      <td>2.250000</td>\n",
              "      <td>1960.000000</td>\n",
              "      <td>1.500000</td>\n",
              "      <td>1977.000000</td>\n",
              "    </tr>\n",
              "    <tr>\n",
              "      <th>75%</th>\n",
              "      <td>4.000000</td>\n",
              "      <td>2.500000</td>\n",
              "      <td>2500.000000</td>\n",
              "      <td>2.000000</td>\n",
              "      <td>1998.000000</td>\n",
              "    </tr>\n",
              "    <tr>\n",
              "      <th>max</th>\n",
              "      <td>9.000000</td>\n",
              "      <td>5.750000</td>\n",
              "      <td>5960.000000</td>\n",
              "      <td>3.500000</td>\n",
              "      <td>2014.000000</td>\n",
              "    </tr>\n",
              "  </tbody>\n",
              "</table>\n",
              "</div>"
            ],
            "text/plain": [
              "          bedrooms    bathrooms  sqft_living       floors     yr_built\n",
              "count  3637.000000  3637.000000  3637.000000  3637.000000  3637.000000\n",
              "mean      3.376409     2.132252  2046.323893     1.520071  1971.879021\n",
              "std       0.861360     0.665172   740.048581     0.544382    29.826325\n",
              "min       1.000000     0.750000   370.000000     1.000000  1900.000000\n",
              "25%       3.000000     1.750000  1500.000000     1.000000  1952.000000\n",
              "50%       3.000000     2.250000  1960.000000     1.500000  1977.000000\n",
              "75%       4.000000     2.500000  2500.000000     2.000000  1998.000000\n",
              "max       9.000000     5.750000  5960.000000     3.500000  2014.000000"
            ]
          },
          "metadata": {
            "tags": []
          },
          "execution_count": 493
        }
      ]
    },
    {
      "cell_type": "code",
      "metadata": {
        "colab": {
          "base_uri": "https://localhost:8080/"
        },
        "id": "9LwgTyMMleHP",
        "outputId": "818aaf80-5737-4c9d-afaa-a90636e2762e"
      },
      "source": [
        "targets.describe()"
      ],
      "execution_count": 494,
      "outputs": [
        {
          "output_type": "execute_result",
          "data": {
            "text/plain": [
              "count      3637.000000\n",
              "mean     492719.884381\n",
              "std      167563.194864\n",
              "min      245100.000000\n",
              "25%      351999.000000\n",
              "50%      465000.000000\n",
              "75%      605000.000000\n",
              "max      902000.000000\n",
              "Name: price, dtype: float64"
            ]
          },
          "metadata": {
            "tags": []
          },
          "execution_count": 494
        }
      ]
    },
    {
      "cell_type": "code",
      "metadata": {
        "colab": {
          "base_uri": "https://localhost:8080/"
        },
        "id": "wznsMovmPaV9",
        "outputId": "dd55b75a-c869-4cdb-cff3-3baa91d84b22"
      },
      "source": [
        "print(data.shape)\n",
        "print(targets.shape)"
      ],
      "execution_count": 495,
      "outputs": [
        {
          "output_type": "stream",
          "text": [
            "(3637, 5)\n",
            "(3637,)\n"
          ],
          "name": "stdout"
        }
      ]
    },
    {
      "cell_type": "code",
      "metadata": {
        "id": "eOJui5A4Pr5L"
      },
      "source": [
        "from sklearn.model_selection import train_test_split"
      ],
      "execution_count": 496,
      "outputs": []
    },
    {
      "cell_type": "code",
      "metadata": {
        "id": "P2pC6J9JPyKC"
      },
      "source": [
        "X_train, X_test, y_train, y_test = train_test_split(data, targets, test_size=0.25)"
      ],
      "execution_count": 497,
      "outputs": []
    },
    {
      "cell_type": "markdown",
      "metadata": {
        "id": "qLb1CmFunkY3"
      },
      "source": [
        "Нормализуем данные."
      ]
    },
    {
      "cell_type": "code",
      "metadata": {
        "id": "Ou5DD_ScQKYm"
      },
      "source": [
        "mean = np.mean(X_train)\n",
        "std = np.std(X_train)\n",
        "\n",
        "X_train -= mean\n",
        "X_train /= std\n",
        "\n",
        "X_test -= mean\n",
        "X_test /= std"
      ],
      "execution_count": 498,
      "outputs": []
    },
    {
      "cell_type": "markdown",
      "metadata": {
        "id": "cDiUcZasnn6n"
      },
      "source": [
        "Используем линейную регрессию"
      ]
    },
    {
      "cell_type": "code",
      "metadata": {
        "id": "l045E3rQQipf"
      },
      "source": [
        "from sklearn.linear_model import LinearRegression\n",
        "from sklearn import metrics"
      ],
      "execution_count": 499,
      "outputs": []
    },
    {
      "cell_type": "code",
      "metadata": {
        "colab": {
          "base_uri": "https://localhost:8080/"
        },
        "id": "g0osONVQQ6Ya",
        "outputId": "291b7984-0b9f-46d1-ad44-34af46ba1ace"
      },
      "source": [
        "model1 = LinearRegression()\n",
        "model1.fit(X_train, y_train)"
      ],
      "execution_count": 500,
      "outputs": [
        {
          "output_type": "execute_result",
          "data": {
            "text/plain": [
              "LinearRegression(copy_X=True, fit_intercept=True, n_jobs=None, normalize=False)"
            ]
          },
          "metadata": {
            "tags": []
          },
          "execution_count": 500
        }
      ]
    },
    {
      "cell_type": "code",
      "metadata": {
        "colab": {
          "base_uri": "https://localhost:8080/"
        },
        "id": "Y4b0--PfRb0h",
        "outputId": "69325b22-8e35-4d0b-af22-e9ea59060124"
      },
      "source": [
        "print(data.columns)\n",
        "print(f\"Coefficients: {model1.coef_}\")"
      ],
      "execution_count": 501,
      "outputs": [
        {
          "output_type": "stream",
          "text": [
            "Index(['bedrooms', 'bathrooms', 'sqft_living', 'floors', 'yr_built'], dtype='object')\n",
            "Coefficients: [-26680.31592516  18625.38631757 100303.72307     30390.48586856\n",
            " -55753.74026211]\n"
          ],
          "name": "stdout"
        }
      ]
    },
    {
      "cell_type": "code",
      "metadata": {
        "id": "1fzSNSgjRWps"
      },
      "source": [
        "y_pred = model1.predict(X_test)"
      ],
      "execution_count": 502,
      "outputs": []
    },
    {
      "cell_type": "code",
      "metadata": {
        "colab": {
          "base_uri": "https://localhost:8080/"
        },
        "id": "QP3UrhxyScQP",
        "outputId": "4f8970ac-1315-4426-a2f8-274a5d3efc50"
      },
      "source": [
        "print(f\"Mean squared error: {metrics.mean_squared_error(y_test, y_pred)}\")\n",
        "print(f\"Root mean squared error: {np.sqrt(metrics.mean_squared_error(y_test, y_pred))}\")"
      ],
      "execution_count": 503,
      "outputs": [
        {
          "output_type": "stream",
          "text": [
            "Mean squared error: 18471818932.41344\n",
            "Root mean squared error: 135911.06994065436\n"
          ],
          "name": "stdout"
        }
      ]
    },
    {
      "cell_type": "code",
      "metadata": {
        "colab": {
          "base_uri": "https://localhost:8080/"
        },
        "id": "et3Bq2LFSyq7",
        "outputId": "240c5f5d-80ca-436c-e42d-766820df1d0b"
      },
      "source": [
        "# r_2 = 1 - RSS / TSS = ESS / TSS\n",
        "# RSS = сумма (y_pred - y)\n",
        "# TSS = сумма (y - y.mean())\n",
        "# ESS = сумма (y_pred - y.mean())\n",
        "print(f\"Coefficient of determination: {r2_score(y_test, y_pred)}\")\n",
        "print(f\"Coefficient of determination: {1 - ((y_pred - y_test) ** 2).sum() / ((y_test - y_test.mean()) ** 2).sum()}\")"
      ],
      "execution_count": 504,
      "outputs": [
        {
          "output_type": "stream",
          "text": [
            "Coefficient of determination: 0.35421667360995746\n",
            "Coefficient of determination: 0.35421667360995746\n"
          ],
          "name": "stdout"
        }
      ]
    },
    {
      "cell_type": "markdown",
      "metadata": {
        "id": "7mu_iIIcqQTt"
      },
      "source": [
        "Как мы видим, модель получилась не самая хорошая."
      ]
    },
    {
      "cell_type": "markdown",
      "metadata": {
        "id": "NC74T7BVqBCz"
      },
      "source": [
        "Применим глубокую нейронную сеть.\n"
      ]
    },
    {
      "cell_type": "code",
      "metadata": {
        "id": "WucRxq6Fa-D3"
      },
      "source": [
        "import keras\n",
        "from keras import models, layers"
      ],
      "execution_count": 506,
      "outputs": []
    },
    {
      "cell_type": "code",
      "metadata": {
        "id": "QeB2tzWFqOe-"
      },
      "source": [
        "model = models.Sequential()\n",
        "model.add(layers.Dense(10, input_shape=(X_train.shape[1],), activation=\"relu\"))\n",
        "model.add(layers.Dense(8, activation=\"relu\"))\n",
        "model.add(layers.Dense(1, activation=\"sigmoid\"))\n"
      ],
      "execution_count": 508,
      "outputs": []
    },
    {
      "cell_type": "code",
      "metadata": {
        "id": "9EDZ0eAErdp0"
      },
      "source": [
        "model.compile(optimizer='rmsprop', loss='binary_crossentropy', metrics=['mse'])"
      ],
      "execution_count": 518,
      "outputs": []
    },
    {
      "cell_type": "code",
      "metadata": {
        "colab": {
          "base_uri": "https://localhost:8080/"
        },
        "id": "zhkev300rkAf",
        "outputId": "6708d18e-a30d-4382-e756-82ce2b844081"
      },
      "source": [
        "history = model.fit(X_train, y_train, epochs=100, validation_data=(X_train[:500], y_train[:500]))"
      ],
      "execution_count": 526,
      "outputs": [
        {
          "output_type": "stream",
          "text": [
            "Epoch 1/100\n",
            "86/86 [==============================] - 0s 3ms/step - loss: -12315270316032.0000 - mse: 269727236096.0000 - val_loss: -11898671071232.0000 - val_mse: 260806279168.0000\n",
            "Epoch 2/100\n",
            "86/86 [==============================] - 0s 2ms/step - loss: -12373072019456.0000 - mse: 269727301632.0000 - val_loss: -11954644058112.0000 - val_mse: 260806279168.0000\n",
            "Epoch 3/100\n",
            "86/86 [==============================] - 0s 2ms/step - loss: -12431190392832.0000 - mse: 269727334400.0000 - val_loss: -12010900160512.0000 - val_mse: 260806279168.0000\n",
            "Epoch 4/100\n",
            "86/86 [==============================] - 0s 2ms/step - loss: -12489156722688.0000 - mse: 269727334400.0000 - val_loss: -12067198205952.0000 - val_mse: 260806279168.0000\n",
            "Epoch 5/100\n",
            "86/86 [==============================] - 0s 2ms/step - loss: -12547995467776.0000 - mse: 269727252480.0000 - val_loss: -12123649343488.0000 - val_mse: 260806279168.0000\n",
            "Epoch 6/100\n",
            "86/86 [==============================] - 0s 2ms/step - loss: -12606422122496.0000 - mse: 269727432704.0000 - val_loss: -12179881328640.0000 - val_mse: 260806279168.0000\n",
            "Epoch 7/100\n",
            "86/86 [==============================] - 0s 2ms/step - loss: -12665196904448.0000 - mse: 269727334400.0000 - val_loss: -12236997263360.0000 - val_mse: 260806279168.0000\n",
            "Epoch 8/100\n",
            "86/86 [==============================] - 0s 2ms/step - loss: -12723909820416.0000 - mse: 269727285248.0000 - val_loss: -12293371854848.0000 - val_mse: 260806279168.0000\n",
            "Epoch 9/100\n",
            "86/86 [==============================] - 0s 2ms/step - loss: -12783088304128.0000 - mse: 269727301632.0000 - val_loss: -12350145953792.0000 - val_mse: 260806279168.0000\n",
            "Epoch 10/100\n",
            "86/86 [==============================] - 0s 2ms/step - loss: -12842240573440.0000 - mse: 269727252480.0000 - val_loss: -12407361503232.0000 - val_mse: 260806279168.0000\n",
            "Epoch 11/100\n",
            "86/86 [==============================] - 0s 2ms/step - loss: -12901444222976.0000 - mse: 269727285248.0000 - val_loss: -12464882188288.0000 - val_mse: 260806279168.0000\n",
            "Epoch 12/100\n",
            "86/86 [==============================] - 0s 2ms/step - loss: -12961007534080.0000 - mse: 269727236096.0000 - val_loss: -12522247684096.0000 - val_mse: 260806279168.0000\n",
            "Epoch 13/100\n",
            "86/86 [==============================] - 0s 2ms/step - loss: -13020445016064.0000 - mse: 269727399936.0000 - val_loss: -12579653025792.0000 - val_mse: 260806279168.0000\n",
            "Epoch 14/100\n",
            "86/86 [==============================] - 0s 2ms/step - loss: -13080394203136.0000 - mse: 269727301632.0000 - val_loss: -12637465214976.0000 - val_mse: 260806279168.0000\n",
            "Epoch 15/100\n",
            "86/86 [==============================] - 0s 2ms/step - loss: -13141022867456.0000 - mse: 269727285248.0000 - val_loss: -12695840489472.0000 - val_mse: 260806279168.0000\n",
            "Epoch 16/100\n",
            "86/86 [==============================] - 0s 2ms/step - loss: -13201639997440.0000 - mse: 269727301632.0000 - val_loss: -12754007097344.0000 - val_mse: 260806279168.0000\n",
            "Epoch 17/100\n",
            "86/86 [==============================] - 0s 2ms/step - loss: -13261519978496.0000 - mse: 269727334400.0000 - val_loss: -12812254445568.0000 - val_mse: 260806279168.0000\n",
            "Epoch 18/100\n",
            "86/86 [==============================] - 0s 2ms/step - loss: -13322543955968.0000 - mse: 269727383552.0000 - val_loss: -12871213776896.0000 - val_mse: 260806279168.0000\n",
            "Epoch 19/100\n",
            "86/86 [==============================] - 0s 2ms/step - loss: -13383463075840.0000 - mse: 269727334400.0000 - val_loss: -12929982267392.0000 - val_mse: 260806279168.0000\n",
            "Epoch 20/100\n",
            "86/86 [==============================] - 0s 2ms/step - loss: -13444405264384.0000 - mse: 269727301632.0000 - val_loss: -12988716154880.0000 - val_mse: 260806279168.0000\n",
            "Epoch 21/100\n",
            "86/86 [==============================] - 0s 2ms/step - loss: -13505487962112.0000 - mse: 269727334400.0000 - val_loss: -13047631446016.0000 - val_mse: 260806279168.0000\n",
            "Epoch 22/100\n",
            "86/86 [==============================] - 0s 2ms/step - loss: -13566769889280.0000 - mse: 269727301632.0000 - val_loss: -13106927370240.0000 - val_mse: 260806279168.0000\n",
            "Epoch 23/100\n",
            "86/86 [==============================] - 0s 2ms/step - loss: -13628394700800.0000 - mse: 269727285248.0000 - val_loss: -13166419378176.0000 - val_mse: 260806279168.0000\n",
            "Epoch 24/100\n",
            "86/86 [==============================] - 0s 2ms/step - loss: -13690127515648.0000 - mse: 269727334400.0000 - val_loss: -13225895657472.0000 - val_mse: 260806279168.0000\n",
            "Epoch 25/100\n",
            "86/86 [==============================] - 0s 2ms/step - loss: -13751850893312.0000 - mse: 269727252480.0000 - val_loss: -13285494620160.0000 - val_mse: 260806279168.0000\n",
            "Epoch 26/100\n",
            "86/86 [==============================] - 0s 2ms/step - loss: -13813781889024.0000 - mse: 269727350784.0000 - val_loss: -13345277083648.0000 - val_mse: 260806279168.0000\n",
            "Epoch 27/100\n",
            "86/86 [==============================] - 0s 2ms/step - loss: -13875851296768.0000 - mse: 269727252480.0000 - val_loss: -13405315399680.0000 - val_mse: 260806279168.0000\n",
            "Epoch 28/100\n",
            "86/86 [==============================] - 0s 2ms/step - loss: -13938775293952.0000 - mse: 269727334400.0000 - val_loss: -13465944064000.0000 - val_mse: 260806279168.0000\n",
            "Epoch 29/100\n",
            "86/86 [==============================] - 0s 2ms/step - loss: -14001648959488.0000 - mse: 269727252480.0000 - val_loss: -13526634594304.0000 - val_mse: 260806279168.0000\n",
            "Epoch 30/100\n",
            "86/86 [==============================] - 0s 2ms/step - loss: -14064584491008.0000 - mse: 269727301632.0000 - val_loss: -13587463536640.0000 - val_mse: 260806279168.0000\n",
            "Epoch 31/100\n",
            "86/86 [==============================] - 0s 2ms/step - loss: -14127659483136.0000 - mse: 269727383552.0000 - val_loss: -13648210690048.0000 - val_mse: 260806279168.0000\n",
            "Epoch 32/100\n",
            "86/86 [==============================] - 0s 2ms/step - loss: -14190833041408.0000 - mse: 269727252480.0000 - val_loss: -13709171752960.0000 - val_mse: 260806279168.0000\n",
            "Epoch 33/100\n",
            "86/86 [==============================] - 0s 2ms/step - loss: -14254631550976.0000 - mse: 269727285248.0000 - val_loss: -13771013619712.0000 - val_mse: 260806279168.0000\n",
            "Epoch 34/100\n",
            "86/86 [==============================] - 0s 2ms/step - loss: -14318335688704.0000 - mse: 269727301632.0000 - val_loss: -13832364752896.0000 - val_mse: 260806279168.0000\n",
            "Epoch 35/100\n",
            "86/86 [==============================] - 0s 2ms/step - loss: -14381803896832.0000 - mse: 269727285248.0000 - val_loss: -13893867929600.0000 - val_mse: 260806279168.0000\n",
            "Epoch 36/100\n",
            "86/86 [==============================] - 0s 2ms/step - loss: -14445857210368.0000 - mse: 269727334400.0000 - val_loss: -13955586064384.0000 - val_mse: 260806279168.0000\n",
            "Epoch 37/100\n",
            "86/86 [==============================] - 0s 2ms/step - loss: -14510009090048.0000 - mse: 269727334400.0000 - val_loss: -14017555857408.0000 - val_mse: 260806279168.0000\n",
            "Epoch 38/100\n",
            "86/86 [==============================] - 0s 2ms/step - loss: -14574520631296.0000 - mse: 269727301632.0000 - val_loss: -14079303352320.0000 - val_mse: 260806279168.0000\n",
            "Epoch 39/100\n",
            "86/86 [==============================] - 0s 2ms/step - loss: -14638601207808.0000 - mse: 269727383552.0000 - val_loss: -14141519560704.0000 - val_mse: 260806279168.0000\n",
            "Epoch 40/100\n",
            "86/86 [==============================] - 0s 2ms/step - loss: -14703622356992.0000 - mse: 269727285248.0000 - val_loss: -14204157296640.0000 - val_mse: 260806279168.0000\n",
            "Epoch 41/100\n",
            "86/86 [==============================] - 0s 2ms/step - loss: -14768707469312.0000 - mse: 269727252480.0000 - val_loss: -14266879967232.0000 - val_mse: 260806279168.0000\n",
            "Epoch 42/100\n",
            "86/86 [==============================] - 0s 2ms/step - loss: -14833760075776.0000 - mse: 269727334400.0000 - val_loss: -14329609977856.0000 - val_mse: 260806279168.0000\n",
            "Epoch 43/100\n",
            "86/86 [==============================] - 0s 2ms/step - loss: -14898812682240.0000 - mse: 269727350784.0000 - val_loss: -14393288949760.0000 - val_mse: 260806279168.0000\n",
            "Epoch 44/100\n",
            "86/86 [==============================] - 0s 2ms/step - loss: -14965303934976.0000 - mse: 269727350784.0000 - val_loss: -14457023496192.0000 - val_mse: 260806279168.0000\n",
            "Epoch 45/100\n",
            "86/86 [==============================] - 0s 2ms/step - loss: -15030669017088.0000 - mse: 269727285248.0000 - val_loss: -14520055496704.0000 - val_mse: 260806279168.0000\n",
            "Epoch 46/100\n",
            "86/86 [==============================] - 0s 2ms/step - loss: -15096345526272.0000 - mse: 269727301632.0000 - val_loss: -14583109517312.0000 - val_mse: 260806279168.0000\n",
            "Epoch 47/100\n",
            "86/86 [==============================] - 0s 2ms/step - loss: -15162558906368.0000 - mse: 269727334400.0000 - val_loss: -14647649370112.0000 - val_mse: 260806279168.0000\n",
            "Epoch 48/100\n",
            "86/86 [==============================] - 0s 2ms/step - loss: -15229126705152.0000 - mse: 269727432704.0000 - val_loss: -14711402790912.0000 - val_mse: 260806279168.0000\n",
            "Epoch 49/100\n",
            "86/86 [==============================] - 0s 2ms/step - loss: -15295758467072.0000 - mse: 269727399936.0000 - val_loss: -14775864000512.0000 - val_mse: 260806279168.0000\n",
            "Epoch 50/100\n",
            "86/86 [==============================] - 0s 2ms/step - loss: -15362504523776.0000 - mse: 269727301632.0000 - val_loss: -14840116543488.0000 - val_mse: 260806279168.0000\n",
            "Epoch 51/100\n",
            "86/86 [==============================] - 0s 2ms/step - loss: -15429237997568.0000 - mse: 269727236096.0000 - val_loss: -14904649056256.0000 - val_mse: 260806279168.0000\n",
            "Epoch 52/100\n",
            "86/86 [==============================] - 0s 2ms/step - loss: -15496326938624.0000 - mse: 269727399936.0000 - val_loss: -14969391284224.0000 - val_mse: 260806279168.0000\n",
            "Epoch 53/100\n",
            "86/86 [==============================] - 0s 2ms/step - loss: -15564005179392.0000 - mse: 269727285248.0000 - val_loss: -15034312818688.0000 - val_mse: 260806279168.0000\n",
            "Epoch 54/100\n",
            "86/86 [==============================] - 0s 2ms/step - loss: -15631076294656.0000 - mse: 269727301632.0000 - val_loss: -15099742912512.0000 - val_mse: 260806279168.0000\n",
            "Epoch 55/100\n",
            "86/86 [==============================] - 0s 2ms/step - loss: -15698992562176.0000 - mse: 269727334400.0000 - val_loss: -15165305126912.0000 - val_mse: 260806279168.0000\n",
            "Epoch 56/100\n",
            "86/86 [==============================] - 0s 2ms/step - loss: -15766623617024.0000 - mse: 269727334400.0000 - val_loss: -15230231904256.0000 - val_mse: 260806279168.0000\n",
            "Epoch 57/100\n",
            "86/86 [==============================] - 0s 2ms/step - loss: -15834581827584.0000 - mse: 269727252480.0000 - val_loss: -15296174751744.0000 - val_mse: 260806279168.0000\n",
            "Epoch 58/100\n",
            "86/86 [==============================] - 0s 2ms/step - loss: -15903133532160.0000 - mse: 269727350784.0000 - val_loss: -15362332557312.0000 - val_mse: 260806279168.0000\n",
            "Epoch 59/100\n",
            "86/86 [==============================] - 0s 2ms/step - loss: -15971995615232.0000 - mse: 269727350784.0000 - val_loss: -15428402282496.0000 - val_mse: 260806279168.0000\n",
            "Epoch 60/100\n",
            "86/86 [==============================] - 0s 2ms/step - loss: -16040852455424.0000 - mse: 269727350784.0000 - val_loss: -15494808600576.0000 - val_mse: 260806279168.0000\n",
            "Epoch 61/100\n",
            "86/86 [==============================] - 0s 2ms/step - loss: -16109528940544.0000 - mse: 269727383552.0000 - val_loss: -15561202335744.0000 - val_mse: 260806279168.0000\n",
            "Epoch 62/100\n",
            "86/86 [==============================] - 0s 2ms/step - loss: -16178397315072.0000 - mse: 269727301632.0000 - val_loss: -15627560419328.0000 - val_mse: 260806279168.0000\n",
            "Epoch 63/100\n",
            "86/86 [==============================] - 0s 2ms/step - loss: -16247667294208.0000 - mse: 269727203328.0000 - val_loss: -15694763655168.0000 - val_mse: 260806279168.0000\n",
            "Epoch 64/100\n",
            "86/86 [==============================] - 0s 2ms/step - loss: -16316725460992.0000 - mse: 269727301632.0000 - val_loss: -15760992763904.0000 - val_mse: 260806279168.0000\n",
            "Epoch 65/100\n",
            "86/86 [==============================] - 0s 2ms/step - loss: -16386382364672.0000 - mse: 269727301632.0000 - val_loss: -15828586070016.0000 - val_mse: 260806279168.0000\n",
            "Epoch 66/100\n",
            "86/86 [==============================] - 0s 2ms/step - loss: -16455965868032.0000 - mse: 269727301632.0000 - val_loss: -15895990632448.0000 - val_mse: 260806279168.0000\n",
            "Epoch 67/100\n",
            "86/86 [==============================] - 0s 2ms/step - loss: -16526165934080.0000 - mse: 269727334400.0000 - val_loss: -15963680407552.0000 - val_mse: 260806279168.0000\n",
            "Epoch 68/100\n",
            "86/86 [==============================] - 0s 2ms/step - loss: -16596748730368.0000 - mse: 269727350784.0000 - val_loss: -16031817924608.0000 - val_mse: 260806279168.0000\n",
            "Epoch 69/100\n",
            "86/86 [==============================] - 0s 2ms/step - loss: -16667070431232.0000 - mse: 269727334400.0000 - val_loss: -16099334684672.0000 - val_mse: 260806279168.0000\n",
            "Epoch 70/100\n",
            "86/86 [==============================] - 0s 2ms/step - loss: -16737199194112.0000 - mse: 269727301632.0000 - val_loss: -16167300235264.0000 - val_mse: 260806279168.0000\n",
            "Epoch 71/100\n",
            "86/86 [==============================] - 0s 2ms/step - loss: -16808255946752.0000 - mse: 269727285248.0000 - val_loss: -16235653758976.0000 - val_mse: 260806279168.0000\n",
            "Epoch 72/100\n",
            "86/86 [==============================] - 0s 2ms/step - loss: -16879017000960.0000 - mse: 269727334400.0000 - val_loss: -16304304029696.0000 - val_mse: 260806279168.0000\n",
            "Epoch 73/100\n",
            "86/86 [==============================] - 0s 2ms/step - loss: -16950592798720.0000 - mse: 269727383552.0000 - val_loss: -16373008826368.0000 - val_mse: 260806279168.0000\n",
            "Epoch 74/100\n",
            "86/86 [==============================] - 0s 2ms/step - loss: -17022097293312.0000 - mse: 269727350784.0000 - val_loss: -16442442383360.0000 - val_mse: 260806279168.0000\n",
            "Epoch 75/100\n",
            "86/86 [==============================] - 0s 2ms/step - loss: -17093640585216.0000 - mse: 269727285248.0000 - val_loss: -16511299223552.0000 - val_mse: 260806279168.0000\n",
            "Epoch 76/100\n",
            "86/86 [==============================] - 0s 2ms/step - loss: -17165572898816.0000 - mse: 269727334400.0000 - val_loss: -16580443373568.0000 - val_mse: 260806279168.0000\n",
            "Epoch 77/100\n",
            "86/86 [==============================] - 0s 2ms/step - loss: -17238332538880.0000 - mse: 269727383552.0000 - val_loss: -16650436870144.0000 - val_mse: 260806279168.0000\n",
            "Epoch 78/100\n",
            "86/86 [==============================] - 0s 2ms/step - loss: -17309487857664.0000 - mse: 269727334400.0000 - val_loss: -16719565291520.0000 - val_mse: 260806279168.0000\n",
            "Epoch 79/100\n",
            "86/86 [==============================] - 0s 2ms/step - loss: -17382260080640.0000 - mse: 269727252480.0000 - val_loss: -16790018064384.0000 - val_mse: 260806279168.0000\n",
            "Epoch 80/100\n",
            "86/86 [==============================] - 0s 2ms/step - loss: -17455302836224.0000 - mse: 269727301632.0000 - val_loss: -16860314599424.0000 - val_mse: 260806279168.0000\n",
            "Epoch 81/100\n",
            "86/86 [==============================] - 0s 2ms/step - loss: -17527495196672.0000 - mse: 269727301632.0000 - val_loss: -16929814216704.0000 - val_mse: 260806279168.0000\n",
            "Epoch 82/100\n",
            "86/86 [==============================] - 0s 2ms/step - loss: -17601178632192.0000 - mse: 269727301632.0000 - val_loss: -17001062858752.0000 - val_mse: 260806279168.0000\n",
            "Epoch 83/100\n",
            "86/86 [==============================] - 0s 2ms/step - loss: -17674425860096.0000 - mse: 269727285248.0000 - val_loss: -17072167845888.0000 - val_mse: 260806279168.0000\n",
            "Epoch 84/100\n",
            "86/86 [==============================] - 0s 2ms/step - loss: -17747637436416.0000 - mse: 269727301632.0000 - val_loss: -17142294511616.0000 - val_mse: 260806279168.0000\n",
            "Epoch 85/100\n",
            "86/86 [==============================] - 0s 2ms/step - loss: -17821635444736.0000 - mse: 269727285248.0000 - val_loss: -17213763354624.0000 - val_mse: 260806279168.0000\n",
            "Epoch 86/100\n",
            "86/86 [==============================] - 0s 2ms/step - loss: -17895975288832.0000 - mse: 269727285248.0000 - val_loss: -17285277286400.0000 - val_mse: 260806279168.0000\n",
            "Epoch 87/100\n",
            "86/86 [==============================] - 0s 2ms/step - loss: -17969627267072.0000 - mse: 269727301632.0000 - val_loss: -17356930678784.0000 - val_mse: 260806279168.0000\n",
            "Epoch 88/100\n",
            "86/86 [==============================] - 0s 2ms/step - loss: -18043883225088.0000 - mse: 269727383552.0000 - val_loss: -17428414201856.0000 - val_mse: 260806279168.0000\n",
            "Epoch 89/100\n",
            "86/86 [==============================] - 0s 2ms/step - loss: -18118051102720.0000 - mse: 269727399936.0000 - val_loss: -17500044525568.0000 - val_mse: 260806279168.0000\n",
            "Epoch 90/100\n",
            "86/86 [==============================] - 0s 2ms/step - loss: -18193168990208.0000 - mse: 269727334400.0000 - val_loss: -17572594450432.0000 - val_mse: 260806279168.0000\n",
            "Epoch 91/100\n",
            "86/86 [==============================] - 0s 2ms/step - loss: -18267984887808.0000 - mse: 269727334400.0000 - val_loss: -17644715507712.0000 - val_mse: 260806279168.0000\n",
            "Epoch 92/100\n",
            "86/86 [==============================] - 0s 2ms/step - loss: -18343201341440.0000 - mse: 269727301632.0000 - val_loss: -17717199372288.0000 - val_mse: 260806279168.0000\n",
            "Epoch 93/100\n",
            "86/86 [==============================] - 0s 2ms/step - loss: -18418461835264.0000 - mse: 269727334400.0000 - val_loss: -17789897146368.0000 - val_mse: 260806279168.0000\n",
            "Epoch 94/100\n",
            "86/86 [==============================] - 0s 2ms/step - loss: -18493822992384.0000 - mse: 269727285248.0000 - val_loss: -17862454411264.0000 - val_mse: 260806279168.0000\n",
            "Epoch 95/100\n",
            "86/86 [==============================] - 0s 2ms/step - loss: -18569576316928.0000 - mse: 269727301632.0000 - val_loss: -17935408037888.0000 - val_mse: 260806279168.0000\n",
            "Epoch 96/100\n",
            "86/86 [==============================] - 0s 2ms/step - loss: -18645205909504.0000 - mse: 269727285248.0000 - val_loss: -18008760123392.0000 - val_mse: 260806279168.0000\n",
            "Epoch 97/100\n",
            "86/86 [==============================] - 0s 2ms/step - loss: -18721120714752.0000 - mse: 269727301632.0000 - val_loss: -18081640349696.0000 - val_mse: 260806279168.0000\n",
            "Epoch 98/100\n",
            "86/86 [==============================] - 0s 2ms/step - loss: -18797278789632.0000 - mse: 269727301632.0000 - val_loss: -18155705466880.0000 - val_mse: 260806279168.0000\n",
            "Epoch 99/100\n",
            "86/86 [==============================] - 0s 2ms/step - loss: -18873797574656.0000 - mse: 269727383552.0000 - val_loss: -18229615394816.0000 - val_mse: 260806279168.0000\n",
            "Epoch 100/100\n",
            "86/86 [==============================] - 0s 2ms/step - loss: -18950467354624.0000 - mse: 269727301632.0000 - val_loss: -18303269470208.0000 - val_mse: 260806279168.0000\n"
          ],
          "name": "stdout"
        }
      ]
    },
    {
      "cell_type": "code",
      "metadata": {
        "colab": {
          "base_uri": "https://localhost:8080/"
        },
        "id": "JlZQyqIgsKu6",
        "outputId": "c9000742-7d8d-4e65-96f0-0ce568de8595"
      },
      "source": [
        "_, mse = model.evaluate(X_test, y_test)"
      ],
      "execution_count": 527,
      "outputs": [
        {
          "output_type": "stream",
          "text": [
            "29/29 [==============================] - 0s 1ms/step - loss: -18804266500096.0000 - mse: 274180800512.0000\n"
          ],
          "name": "stdout"
        }
      ]
    },
    {
      "cell_type": "code",
      "metadata": {
        "colab": {
          "base_uri": "https://localhost:8080/"
        },
        "id": "VU4kUc8tthgY",
        "outputId": "e12ec67b-f77c-4409-e205-3a99125cd73c"
      },
      "source": [
        "np.sqrt(mse)"
      ],
      "execution_count": 528,
      "outputs": [
        {
          "output_type": "execute_result",
          "data": {
            "text/plain": [
              "523622.7654638404"
            ]
          },
          "metadata": {
            "tags": []
          },
          "execution_count": 528
        }
      ]
    },
    {
      "cell_type": "code",
      "metadata": {
        "colab": {
          "base_uri": "https://localhost:8080/",
          "height": 293
        },
        "id": "PFgKiEwzuVEX",
        "outputId": "b5b4761f-3a7a-4def-c9c0-45fdecb94d10"
      },
      "source": [
        "plt.plot(history.history[\"loss\"], label=\"loss\")\n",
        "plt.plot(history.history[\"val_loss\"], label=\"val_loss\")\n",
        "plt.legend()"
      ],
      "execution_count": 534,
      "outputs": [
        {
          "output_type": "execute_result",
          "data": {
            "text/plain": [
              "<matplotlib.legend.Legend at 0x7f3410b4f350>"
            ]
          },
          "metadata": {
            "tags": []
          },
          "execution_count": 534
        },
        {
          "output_type": "display_data",
          "data": {
            "image/png": "[encoded data removed]",
            "text/plain": [
              "<Figure size 432x288 with 1 Axes>"
            ]
          },
          "metadata": {
            "tags": [],
            "needs_background": "light"
          }
        }
      ]
    },
    {
      "cell_type": "code",
      "metadata": {
        "id": "ypcLdGp2vh43"
      },
      "source": [
        ""
      ],
      "execution_count": null,
      "outputs": []
    }
  ]
}